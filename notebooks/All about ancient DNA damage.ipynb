{
 "cells": [
  {
   "cell_type": "markdown",
   "metadata": {},
   "source": [
    "##  Ancient DNA damage (the mechnism and beyond)\n",
    "\n",
    "This is a document containing snippets on the mechanism behind DNA damage, the biological findings on DNA damage so far and on how sequencing can identify damage patterns.\n",
    "\n",
    "- In living cells, DNA molecules undergo damages due to chemical reactions, but they are fixed by enzyme repair \n",
    "  mechanisms. \n",
    "  \n",
    "- When an organims dies, the chemical reactions stop, and DNA degrades because of intracellular nucleases as well as \n",
    "  micro-organisms that spread in the decaying tissue.\n",
    "  \n",
    "- However, when tissues are frozen or deprived of water, these destructive processes are inhibited. As a result, the \n",
    "  damages take place slowly letting the DNA in these tissues survive for long.\n",
    "  \n",
    " - When ancient DNA are collected, three main types of damages are observed - reduction in fragment size, damages that   block replication of DNA by polymerases, damages that result in incorrect nucleotides getting incorporated on         replication. \n",
    " \n",
    "We pick up each of these patterns of damages and investigate them in more detail."
   ]
  },
  {
   "cell_type": "markdown",
   "metadata": {},
   "source": [
    "## Fragmentation\n",
    "\n",
    "DNA extracted from samples varying in age between 4 and 13,000 years have been found to have fragment sizes in the range of 40-500 base pairs (the older the sample, the smaller the fragment sizes). From in vitro experiments, it has been found that fragmentation is due to hydrolytic depurination [Fig 1, Dabney, Meyer and Paabo], where the A/G site is dropped from the strand, causing a nick and thereby causing single strand breaks. \n",
    "\n",
    "Also the GC content in Neanderthal is around 50 % compared to 41 % in modern humans, but this was not observed in other samples (could be library prep). "
   ]
  },
  {
   "cell_type": "markdown",
   "metadata": {},
   "source": [
    "## Strand breaks \n",
    "\n",
    "Sequencing approaches ligate adaptors to the ends of the fragments to construct sequence library. As long as terminal nucleotides are not being removed by adaptors (which does happen in cases, for instance in John Lindo 2016 data), we would be able to determine the terminal position of the fragment. One can then use reference genome to infer the bases immediately adjacent to the ancient DNA fragment. \n",
    "\n",
    "This analysis led to a very nice dicovery. It was found that purines A (adenine) and G (guanine) are enriched in the position right next (upstream) to the 5' ends of the fragments, extracted from the remains of Neanderthal, mammoths and cave bears. \n",
    "\n",
    "### relative abundance of purines\n",
    "\n",
    "In Pleistocene horse remains preserved in permafrost, G was even more enriched than A. A possible explanation for the preferential depurination of G over A is a resonance structure in guanine that lowers the activation energy to break the the bond. However, in cave bears, A is more enrched than G. Interestingly,  in samples younger than 100 years age, A was dominant over G at the strand break, whereas G was more dominant in samples older than 40,000 years. This suggests that some other process apart from depurination (which likely should cause higher G than A) causes strand breaks - one possible explanation is enzyme degradation immediately after death. \n",
    "\n",
    "\n",
    "### comparison with moderns \n",
    "\n",
    "It was found that when the same library prep (454) method was used to sequence moderns, modern DNA did not show this purine enrichment at -1 position from strand breaks. This suggests that the fragmentation process in ancient DNA is different from moderns and not some technical bias.\n",
    "\n",
    "### other strand break aberrations\n",
    "\n",
    "While purine enrichment immediate to 5' end of the strand is the most common observed damage, there are other compositional aberrations. In the mammoth, an excess of T and decreased amount of G at the second position upstream from strand break was seen. This was also seen in other permafrost samples, implying this might be a permafrost specific aberration. "
   ]
  },
  {
   "cell_type": "markdown",
   "metadata": {},
   "source": [
    "## Nucleotide Misincorporation\n",
    "\n",
    "One of the very consistent features of ancient DNA damage are C to U misincorporations occurring mainly at the terminal positions of the fragments, compared to the inner part. It has been found that C to T changes are frequent both at the 5' and 3' ends of the fragments (Dabney, Meyer, Paabo).\n",
    "\n",
    "\n",
    "However, when ancient DNA was sequenced, it was found that there is high frequency of G to A at the 3' ends and high frequency of C to T at the 5' ends. Scientists wondered: where are these G to A changes coming from? \n",
    "\n",
    "### G to A, is it real?\n",
    "\n",
    "Initially the ancient DNA researchers thought that G is changing to xanthine (X) because of deamination, and xanthine(X) is read as A by the sequencer. However, the probability of reading X as A is low and it does not match with so many G to A changes one sees at 3' ends. \n",
    "So, what could be the possible reason?\n",
    "\n",
    "It was then identified by the scientists that most of these fragments contain 5' or 3' overhangs and nicks. The 3' overhangs are cut off by blunt end repair during library prep, whereas the 5' overhnags and also nicks are filled up in the direction from 5' to 3'. This means that the 3' ends of the fragments we see is basically filled in  from the 5' end of the other strand by T4 DNA polymerase. It has been found that overhangs and nicks occur in ancient DNA in large numbers and this results in the high concentration of G to A at the 3' ends. \n",
    "\n",
    "\n",
    "### terminal behavior of misincorporations\n",
    "\n",
    "It has also been found that the ends of moelcules are more susceptible to undergo C to T changes and as result, you see the decreasing pattern in C to T graph in the mapdamage plots, mainly upto 20 bases from the terminal ends of the molecules. It has also been found that C to U (deamination) changes in single strand is around 3 times higher than in double strand. So, C to T changes are more likely to occur in te overhangs than in the double stranded part. \n",
    "\n",
    "\n",
    "### contaminating DNA vs endogenous DNA\n",
    "\n",
    "It has been shown that modern human DNA contaminating the ancient bones may be of shorter length and may carry nucleotide misincorporations typical of ancient DNA, owing to cellular decay or other reasons.  So, neither fragment size, nor misincorporations are good identifiers between modern contaminating DNA and the actual endogenous DNA. So, how does one distinguish between modern and ancient DNA?\n",
    "\n",
    "A DNA sequence called hypervariable region I (HVRI) of mtDNA has been determined from 13 Neanderthals and found to differ from contemporary humans by multiple substitutions. This can be used to determine the relative proportion of endogenous and contaminating modern DNA. Other rapidly evolving regions like the Y chromosome may also be used to detect contamination.\n",
    "\n",
    "\n",
    "### is C->T connected to age?\n",
    "\n",
    "C to T changes was found to be positively correlated with age of the sample despite different sites and burial conditions in the samples studied Krause et al 2010, but this is not somehting we see, and Anna Di Rienzo feels it is difficult to get a correlation with age because of strong environmental differences. "
   ]
  },
  {
   "cell_type": "markdown",
   "metadata": {},
   "source": [
    "## Blocking Lesions \n",
    "\n",
    "A field of ancient DNA damage less understood because of its complexity are the blocking lesions, which are aberrations to DNA that obstruct the movement of DNA polymerase along a template strand, preventing their amplification and sequencing. These could be nucleotide modificiations or cross links between DNA strands or even between DNA fragments, or DNA and other molecules.It is believed that a modification at guanine (G) may also act as a blocking lesion, as often fragments were seen to terminate at G (Heyn et al 2010).\n",
    "\n",
    "### an example of blocking lesion\n",
    "\n",
    "An example of blocking lesion has been found in a 20,000 year old sloth coprolites, where mass spectrometry showed that furanones, furaldehydes and alkyl-pyrazines are present which can produce cross links between DNA and proteins, and this resisted amplification of mitochondrial DNA, and these macromolecule products had to be cleaved chemically before doing the amplification and sequencing. \n",
    "\n",
    "It has been suggested that cross links accumulate 100 times faster than the single strand breaks in permafrost-derived DNA. However there is contradictory evidence that cross links do not occur in more than 40% of permafrost derived DNA. So, researchers have not reached a conclusion on blocking lesions."
   ]
  },
  {
   "cell_type": "markdown",
   "metadata": {},
   "source": [
    "## Conclusion\n",
    "\n",
    "This report has been made to serve as a reminder of the intricate details of ancient DNA damage. The information contained in this report is derived mainly from three pioneering papers on ancient DNA - Rohland et al 2015 (UDG paper), Dabney, Meyer and Paabo 2013 (dna damage) and Briggs et al 2007 (dna damage mechanism). "
   ]
  }
 ],
 "metadata": {
  "anaconda-cloud": {},
  "kernelspec": {
   "display_name": "Python [conda root]",
   "language": "python",
   "name": "conda-root-py"
  },
  "language_info": {
   "codemirror_mode": {
    "name": "ipython",
    "version": 3
   },
   "file_extension": ".py",
   "mimetype": "text/x-python",
   "name": "python",
   "nbconvert_exporter": "python",
   "pygments_lexer": "ipython3",
   "version": "3.5.2"
  }
 },
 "nbformat": 4,
 "nbformat_minor": 1
}
