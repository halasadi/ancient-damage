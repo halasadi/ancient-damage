{
 "cells": [
  {
   "cell_type": "markdown",
   "metadata": {},
   "source": [
    "## A tutorial on samtools\n",
    "\n",
    "Personally, I have always found it hard dealing with the very popular and regularly used concepts of bioinformatics. Some of these, for instance, samtools, Bowtie, PLINK have become standard protocols and I have seen people working in these fields relying on them very heavily. Coming from statistics background, I always found it hard to grasp these softwares well. This is my personal effort at learning about these tools.\n",
    "\n",
    "I am going to start with samtools.\n",
    "\n",
    "SAM/ BAM (Binary representation of SAM) is currently the de facto standard for storing large nucleotide sequence alignments. If you are dealing with high-throughput sequencing data, at some point you will probably have to deal with SAM/BAM files, so familiarise yourself with them! (http://davetang.org/wiki/tiki-index.php?page=SAMTools#Extracting_only_the_first_read_from_paired_end_BAM_files).\n",
    "\n",
    "I have also learned that if you start going deep into sequencing, the deepest you can go before you hit the bottom is upto a BAM file. In other words, all sequencing analysis starts with a BAM file. So, it is good to get a proper idea about how to handle BAM files."
   ]
  },
  {
   "cell_type": "markdown",
   "metadata": {},
   "source": [
    "To give a demo on samtools, we needed a BAM file for experimental use. T004_all_chr.bam is an example BAM file that we use here. The data is available in the same folder as this file on my Github.\n",
    "\n",
    "Throughout this demo, I will assume the user has no prior knowledge of samtools or a BAM file, so this tutorial runs the risk of being too basic for someone already well versed with some aspects of the BAM format and samtools."
   ]
  },
  {
   "cell_type": "code",
   "execution_count": 1,
   "metadata": {
    "collapsed": false
   },
   "outputs": [
    {
     "name": "stdout",
     "output_type": "stream",
     "text": [
      "DBRHHJN1:287:C11BUACXX:2:1108:18196:37453\t0\tchr1\t11591\t1\t100M\t*\t0\t0\tGTTCTGTATCCCACCAGCAATGTCTAGGAATGCCTGTTTCTCCACAAAGTGTTTACTTTTGGATTTTTGCCAGTCTAACAGGTGAAGCCCTGGAGATTCT\tB@CFFFFFHGHHHJJJJIIJJJIJJJJJJJJJJIIIIJJJJJJJJIJJJ?FFIIGIJJJJJGHGIJJJJEHEIHEEFGHHFFDFEDEEEDDDB?B?>CDD\tAS:i:200\tXS:i:200\tXN:i:0\tXM:i:0\tXO:i:0\tXG:i:0\tNM:i:0\tMD:Z:100\tYT:Z:UU\n"
     ]
    }
   ],
   "source": [
    "%%bash\n",
    "samtools view T004_all_chr.bam | head -n 1  ## first line of the BAM file"
   ]
  },
  {
   "cell_type": "markdown",
   "metadata": {},
   "source": [
    "Okay so now we know how the first line of a BAM file looks like. Every line will typically look like this."
   ]
  },
  {
   "cell_type": "code",
   "execution_count": 4,
   "metadata": {
    "collapsed": false
   },
   "outputs": [
    {
     "name": "stdout",
     "output_type": "stream",
     "text": [
      "DBRHHJN1:287:C11BUACXX:2:1108:18196:37453\t0\tchr1\t11591\t1\t100M\t*\t0\t0\tGTTCTGTATCCCACCAGCAATGTCTAGGAATGCCTGTTTCTCCACAAAGTGTTTACTTTTGGATTTTTGCCAGTCTAACAGGTGAAGCCCTGGAGATTCT\tB@CFFFFFHGHHHJJJJIIJJJIJJJJJJJJJJIIIIJJJJJJJJIJJJ?FFIIGIJJJJJGHGIJJJJEHEIHEEFGHHFFDFEDEEEDDDB?B?>CDD\tAS:i:200\tXS:i:200\tXN:i:0\tXM:i:0\tXO:i:0\tXG:i:0\tNM:i:0\tMD:Z:100\tYT:Z:UU\n",
      "DBRHHJN1:287:C11BUACXX:2:1102:2899:38685\t0\tchr1\t11729\t1\t100M\t*\t0\t0\tTTTTAAATTTCCACTGATGATTTTACTGAATGGCCGGTGTTGAGAATGACTGTGCAAATTTGCCGGATTTCCTTCGCTGTTCCTGCATGTAGTTTAAACG\t<@;BDBDDDFHFFGGHFDAAFE?C,AFHI@CHEGE@C10@7DB<F>B*/?84?<C88B<8CAC;@8=ABCB@@@@=ACB3>A>>>C?(5(5;(5@DCC38\tAS:i:173\tXS:i:173\tXN:i:0\tXM:i:4\tXO:i:0\tXG:i:0\tNM:i:4\tMD:Z:24G3C23C21T25\tYT:Z:UU\n",
      "DBRHHJN1:287:C11BUACXX:2:1110:3641:63170\t0\tchr1\t11754\t1\t100M\t*\t0\t0\tCTGCATGGCCGGTGTTGAGAATGACTGCGCAAATTTGCCGGATTTCCTTTGCTGTTCCTGCATGTAGTTTAAACGAGATTGCCAGCACCGGGTATCATTC\t@@@FFFFFHHHH?EFHJJIIIJDIJHGGGHJIIIJJIIJGIGBGHIJJIGGGGGEHHFEFFDDE@CECEEEDDDDBDBDDDDDDDDDDDDDD5>CCDDAD\tAS:i:200\tXS:i:200\tXN:i:0\tXM:i:0\tXO:i:0\tXG:i:0\tNM:i:0\tMD:Z:100\tYT:Z:UU\n"
     ]
    }
   ],
   "source": [
    "%%bash \n",
    "samtools view T004_all_chr.bam | head -n 3  ## first 3 lines of the BAM file"
   ]
  },
  {
   "cell_type": "code",
   "execution_count": 6,
   "metadata": {
    "collapsed": false
   },
   "outputs": [
    {
     "name": "stdout",
     "output_type": "stream",
     "text": [
      "DBRHHJN1:287:C11BUACXX:2:1105:21004:26547\t4\t*\t0\t0\t*\t*\t0\t0\tGCCACACGGACCACAAGCAGTATAGCCCCAGATAGCGCCCCCAGTCTGCTCCTGTCGCAGGCAGTGAACGCCCGGGGTAGTGGAGCCAAAAAACACCTGG\t+1=DB;DD:F<?A:;2<?C>E4<?CD>??;DF?<9?DF<:;-;@7==4;A>>?###############################################\tYT:Z:UU\n",
      "DBRHHJN1:287:C11BUACXX:2:1107:11638:91641\t4\t*\t0\t0\t*\t*\t0\t0\tCTATCAATTCTCTGTACGTGCTTCATGTTAGATTTCCAGTCATATGTTTGATTTTCTTTTTAGAATGGTCTTCATTTCAGATAATTTCAAATCTAAAGCC\tCCCFFFFFHHHHHJJJJJJJJJJJJJJJJJJFIJJIJJJHIJJHIJHIJJHIHIJJJIJJIJIEGHJJIJIJIIJHJJIJJJJEHJGHGGHHHFFFFFFE\tYT:Z:UU\n",
      "DBRHHJN1:287:C11BUACXX:2:1107:17196:42409\t4\t*\t0\t0\t*\t*\t0\t0\tCAAAAAGAACTGAGGAGGCTCCCGCCACAGCTGCAGGACCCACCTCTTCGCCTTGGTTCCCTTGAACACGAGCTTGGTAGACTTCACATGAGAGTACTCG\tCCCFFFFFHHFHHJJJJJJJJJIIIIIIJIGIGIIIJGIJJIIJGIIJGGHHFHHFDFBEEECEEDDCDDDDDDDCBDDDCCDDDDDDDDCDDD>CDDDB\tYT:Z:UU\n"
     ]
    }
   ],
   "source": [
    "%%bash\n",
    "samtools view T004_all_chr.bam | tail -n 3  ## last 3 lines of the BAM file"
   ]
  },
  {
   "cell_type": "markdown",
   "metadata": {},
   "source": [
    "You will notice, we are printing only a few lines of this file. This is because the file itself is pretty big. How many lines does it contain?"
   ]
  },
  {
   "cell_type": "code",
   "execution_count": 7,
   "metadata": {
    "collapsed": false
   },
   "outputs": [
    {
     "name": "stdout",
     "output_type": "stream",
     "text": [
      " 2450208\n"
     ]
    }
   ],
   "source": [
    "%%bash\n",
    "samtools view T004_all_chr.bam | wc -l"
   ]
  },
  {
   "cell_type": "markdown",
   "metadata": {},
   "source": [
    "Now we invest some time in finding out the meanings of the different columns in the BAM file. We first see how many columns are there."
   ]
  },
  {
   "cell_type": "code",
   "execution_count": 9,
   "metadata": {
    "collapsed": false
   },
   "outputs": [
    {
     "name": "stdout",
     "output_type": "stream",
     "text": [
      "20\n"
     ]
    }
   ],
   "source": [
    "%%bash\n",
    "samtools view T004_all_chr.bam | head -n 1 | awk '{ print NF}'"
   ]
  },
  {
   "cell_type": "code",
   "execution_count": null,
   "metadata": {
    "collapsed": true
   },
   "outputs": [],
   "source": []
  }
 ],
 "metadata": {
  "anaconda-cloud": {},
  "kernelspec": {
   "display_name": "Python [default]",
   "language": "python",
   "name": "python3"
  },
  "language_info": {
   "codemirror_mode": {
    "name": "ipython",
    "version": 3
   },
   "file_extension": ".py",
   "mimetype": "text/x-python",
   "name": "python",
   "nbconvert_exporter": "python",
   "pygments_lexer": "ipython3",
   "version": "3.5.2"
  }
 },
 "nbformat": 4,
 "nbformat_minor": 1
}
