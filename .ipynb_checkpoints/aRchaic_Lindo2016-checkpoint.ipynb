{
 "cells": [
  {
   "cell_type": "markdown",
   "metadata": {},
   "source": [
    "## Applying aRchaic on Lindo 2016 data\n",
    "\n",
    "We apply aRchaic on Lindo et al data comprising of 25 moderns and 25 ancient samples. All the samples were clipped in the first base of the read. The metadata for the modern and the ancient samples are available [here](utilities/Lindo_metadata.txt)\n",
    "\n",
    "We start by reading in the data for the ancient and the modern samples."
   ]
  },
  {
   "cell_type": "code",
   "execution_count": null,
   "metadata": {
    "collapsed": true
   },
   "outputs": [],
   "source": []
  }
 ],
 "metadata": {
  "anaconda-cloud": {},
  "kernelspec": {
   "display_name": "R 3.3",
   "language": "R",
   "name": "ir33"
  },
  "language_info": {
   "codemirror_mode": "r",
   "file_extension": ".r",
   "mimetype": "text/x-r-source",
   "name": "R",
   "pygments_lexer": "r",
   "version": "3.3.1"
  }
 },
 "nbformat": 4,
 "nbformat_minor": 1
}
